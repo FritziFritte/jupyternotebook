{
  "metadata": {
    "kernelspec": {
      "name": "python",
      "display_name": "Pyolite",
      "language": "python"
    },
    "language_info": {
      "codemirror_mode": {
        "name": "python",
        "version": 3
      },
      "file_extension": ".py",
      "mimetype": "text/x-python",
      "name": "python",
      "nbconvert_exporter": "python",
      "pygments_lexer": "ipython3",
      "version": "3.8"
    }
  },
  "nbformat_minor": 4,
  "nbformat": 4,
  "cells": [
    {
      "cell_type": "markdown",
      "source": "<center>\n    <img src=\"https://cf-courses-data.s3.us.cloud-object-storage.appdomain.cloud/IBMDeveloperSkillsNetwork-DS0105EN-SkillsNetwork/labs/Module2/images/SN_web_lightmode.png\" width=\"300\" alt=\"cognitiveclass.ai logo\">\n</center>\n",
      "metadata": {}
    },
    {
      "cell_type": "markdown",
      "source": "# Tools for Data Science",
      "metadata": {
        "tags": []
      }
    },
    {
      "cell_type": "markdown",
      "source": "## Introduction  \n\nThis is the final work document of the \"Tools for Data Science\" course",
      "metadata": {
        "tags": []
      }
    },
    {
      "cell_type": "markdown",
      "source": "### Data Science Languages are for example\n\n- Python\n- R  \n- Julia  \n- SQL  \n- Scala  \n- Java\n- C/C++/C#\n",
      "metadata": {
        "jp-MarkdownHeadingCollapsed": true,
        "tags": []
      }
    },
    {
      "cell_type": "markdown",
      "source": "### Data Science Libraries are for example  \n\n- Numpy\n- Matplotlib\n- Pandas\n- SciKit-Learn\n- TensorFlow\n- Scipy\n- PyTorch\n- Keras",
      "metadata": {
        "tags": []
      }
    },
    {
      "cell_type": "markdown",
      "source": "|  Number | Data Science Tool   |\n|------|------|\n|   1  | MySQL|\n|   2  | PostgreSQL|\n|   3  | Apache Kafka|\n|   4  | Apache Nifi|\n|   5  | Apache Airflow|\n|   6  | RStudio|\n|   7  | Spyder|\n|   8  | Watson Studio|\n|   9  | Open Scale|",
      "metadata": {}
    },
    {
      "cell_type": "markdown",
      "source": "\\begin{align}\n\\dot{x} & = \\sigma(y-x) \\\\\n\\dot{y} & = \\rho x - y - xz \\\\\n\\dot{z} & = -\\beta z + xy\n\\end{align}",
      "metadata": {}
    },
    {
      "cell_type": "code",
      "source": "a = 1\nb = 2\nc = a+b\nd = a*b\n\nprint(c)\nprint(d)",
      "metadata": {
        "trusted": true
      },
      "execution_count": 4,
      "outputs": [
        {
          "name": "stdout",
          "text": "3\n2\n",
          "output_type": "stream"
        }
      ]
    },
    {
      "cell_type": "code",
      "source": "min = 77\nhours = min/60\nprint(hours)",
      "metadata": {
        "trusted": true
      },
      "execution_count": 5,
      "outputs": [
        {
          "name": "stdout",
          "text": "1.2833333333333334\n",
          "output_type": "stream"
        }
      ]
    },
    {
      "cell_type": "markdown",
      "source": "### Objectives\n\n- Create my own AI and\n- Marry her mother in law",
      "metadata": {}
    },
    {
      "cell_type": "markdown",
      "source": "Author: FritzelFrotz",
      "metadata": {}
    },
    {
      "cell_type": "code",
      "source": "",
      "metadata": {},
      "execution_count": null,
      "outputs": []
    },
    {
      "cell_type": "code",
      "source": "",
      "metadata": {},
      "execution_count": null,
      "outputs": []
    }
  ]
}